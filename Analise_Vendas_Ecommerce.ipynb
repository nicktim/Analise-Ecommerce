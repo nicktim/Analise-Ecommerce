{
 "cells": [
  {
   "cell_type": "code",
   "execution_count": null,
   "id": "ebd8a025",
   "metadata": {},
   "outputs": [],
   "source": [
    "import pandas as pd \n",
    "import numpy as np \n",
    "\n",
    "# Alterar caminho do csv aqui!\n",
    "arquivos = [\n",
    "    'C:/GitHub/Analise_Eccomerce/Dados/2019-Oct.csv',\n",
    "    'C:/GitHub/Analise_Eccomerce/Dados/2019-Nov.csv',\n",
    "    'C:/GitHub/Analise_Eccomerce/Dados/2019-Dec.csv',\n",
    "    'C:/GitHub/Analise_Eccomerce/Dados/2020-Jan.csv',\n",
    "    'C:/GitHub/Analise_Eccomerce/Dados/2020-Feb.csv',\n",
    "]\n",
    "\n",
    "dfs = []"
   ]
  },
  {
   "cell_type": "code",
   "execution_count": null,
   "id": "7b452273",
   "metadata": {},
   "outputs": [],
   "source": [
    "# Le todos os arquivos da lista e converte a data pro formato correto \n",
    "for caminho in arquivos:\n",
    "    df_temp = pd.read_csv(caminho)\n",
    "    df_temp['event_time'] = pd.to_datetime(df_temp['event_time'])\n",
    "    df_temp['data'] = df_temp['event_time'].dt.strftime('%Y%m%d')  # formato string YYYYMMDD\n",
    "    dfs.append(df_temp)\n",
    "\n",
    "# Concatenar tudo em um único DataFrame\n",
    "df_final = pd.concat(dfs, ignore_index=True)    "
   ]
  },
  {
   "cell_type": "code",
   "execution_count": null,
   "id": "5bffebeb",
   "metadata": {},
   "outputs": [],
   "source": [
    "# Criacao coluna mes coletando as 6 primeiras str. EX: 202411\n",
    "df_final['mes'] = df_final['data'].str[:6]\n",
    "\n",
    "# Agrupando dados e renomeando coluna de saida.\n",
    "daily_income = (\n",
    "    df_final\n",
    "    .groupby('data', as_index= False)['price']\n",
    "    .sum()\n",
    "    .rename(columns={'price': 'daily_total_price'})\n",
    ")\n",
    "daily_income = (\n",
    "    daily_income\n",
    "    .sort_values('daily_total_price', ascending=False)\n",
    "    .head(10)\n",
    ")\n",
    "monthly_income = (\n",
    "    df_final\n",
    "    .groupby('mes', as_index = False)['price']\n",
    "    .sum()\n",
    "    .rename(columns={'price': 'monthly_total_price'})\n",
    ")\n",
    "sale_category = (\n",
    "    df_final\n",
    "    .groupby('category_code', as_index = False)['price']\n",
    "    .sum()\n",
    "    .rename(columns={'price': 'category_total_price'})\n",
    ")"
   ]
  },
  {
   "cell_type": "code",
   "execution_count": null,
   "id": "6adbea05",
   "metadata": {},
   "outputs": [],
   "source": [
    "# Produtos mais vendidos.\n",
    "event_purchase = df_final[df_final['event_type'] == 'purchase']\n",
    "most_sold_products = (\n",
    "    event_purchase['product_id']\n",
    "    .value_counts()\n",
    "    .head(10)\n",
    "    .reset_index()\n",
    ")\n",
    "most_sold_products.columns = ['product_id', 'quantity_sold']\n",
    "\n",
    "# Produtos com maior faturamento.\n",
    "highest_revenue = (\n",
    "    event_purchase\n",
    "    .groupby('product_id', as_index=False)['price']\n",
    "    .sum()\n",
    "    .sort_values('price', ascending=False)\n",
    "    .head(5)\n",
    ")"
   ]
  },
  {
   "cell_type": "code",
   "execution_count": null,
   "id": "5f735c3d",
   "metadata": {},
   "outputs": [],
   "source": []
  },
  {
   "cell_type": "code",
   "execution_count": null,
   "id": "e6622c1c",
   "metadata": {},
   "outputs": [],
   "source": [
    "# Conversão: visitas → adição ao carrinho → compra.\n",
    "funnel_counts =(\n",
    "    df_final\n",
    "    .groupby('event_type')['user_id']\n",
    "    .nunique()\n",
    ")\n",
    "\n",
    "view_to_cart = funnel_counts['cart'] / funnel_counts['view']\n",
    "cart_to_purchase = funnel_counts['purchase'] / funnel_counts['cart']\n",
    "view_to_purchase = funnel_counts['purchase'] / funnel_counts['view']\n"
   ]
  },
  {
   "cell_type": "code",
   "execution_count": null,
   "id": "7161a450",
   "metadata": {},
   "outputs": [],
   "source": [
    "# SAIDAS \n",
    "\n",
    "print('=== Dias com mais receita ===')\n",
    "print(daily_income.to_string(index=False))\n",
    "\n",
    "print('\\n=== Receita em cada mês ===')\n",
    "print(monthly_income.to_string(index=False))\n",
    "\n",
    "print('\\n=== Maior receita por categoria ===')\n",
    "print(sale_category.to_string(index=False))\n",
    "\n",
    "\n"
   ]
  },
  {
   "cell_type": "code",
   "execution_count": null,
   "id": "e0a2e0e4",
   "metadata": {},
   "outputs": [],
   "source": [
    "print('=== Produtos mais vendidos ===')\n",
    "print(most_sold_products.to_string(index=False))\n",
    "\n",
    "print('\\n=== Produtos com maior faturamento ===')\n",
    "print(highest_revenue.to_string(index=False))\n"
   ]
  },
  {
   "cell_type": "code",
   "execution_count": null,
   "id": "dd290c1b",
   "metadata": {},
   "outputs": [],
   "source": [
    "print('=== Análise Funil ===\\n')\n",
    "\n",
    "print('Views -> Carrinho:')\n",
    "print(view_to_cart)\n",
    "\n",
    "print('\\nCarrinho -> Efetivação de Compra:')\n",
    "print(cart_to_purchase)\n",
    "\n",
    "print('\\nViews -> Efetivação de Compra:')\n",
    "print(view_to_purchase)\n"
   ]
  },
  {
   "cell_type": "code",
   "execution_count": null,
   "id": "674e5421",
   "metadata": {},
   "outputs": [],
   "source": []
  }
 ],
 "metadata": {
  "kernelspec": {
   "display_name": "base",
   "language": "python",
   "name": "python3"
  },
  "language_info": {
   "codemirror_mode": {
    "name": "ipython",
    "version": 3
   },
   "file_extension": ".py",
   "mimetype": "text/x-python",
   "name": "python",
   "nbconvert_exporter": "python",
   "pygments_lexer": "ipython3",
   "version": "3.12.4"
  }
 },
 "nbformat": 4,
 "nbformat_minor": 5
}
